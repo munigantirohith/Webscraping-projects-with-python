{
 "cells": [
  {
   "cell_type": "code",
   "execution_count": 1,
   "id": "33089618",
   "metadata": {},
   "outputs": [
    {
     "name": "stdout",
     "output_type": "stream",
     "text": [
      "Requirement already satisfied: instaloader in c:\\users\\rohith\\anaconda3\\lib\\site-packages (4.9.6)\n",
      "Requirement already satisfied: requests>=2.4 in c:\\users\\rohith\\anaconda3\\lib\\site-packages (from instaloader) (2.27.1)\n",
      "Requirement already satisfied: idna<4,>=2.5 in c:\\users\\rohith\\anaconda3\\lib\\site-packages (from requests>=2.4->instaloader) (3.3)\n",
      "Requirement already satisfied: certifi>=2017.4.17 in c:\\users\\rohith\\anaconda3\\lib\\site-packages (from requests>=2.4->instaloader) (2021.10.8)\n",
      "Requirement already satisfied: charset-normalizer~=2.0.0 in c:\\users\\rohith\\anaconda3\\lib\\site-packages (from requests>=2.4->instaloader) (2.0.4)\n",
      "Requirement already satisfied: urllib3<1.27,>=1.21.1 in c:\\users\\rohith\\anaconda3\\lib\\site-packages (from requests>=2.4->instaloader) (1.26.9)\n"
     ]
    },
    {
     "name": "stderr",
     "output_type": "stream",
     "text": [
      "C:\\Users\\rohith\\anaconda3\\lib\\site-packages\\win_unicode_console\\__init__.py:31: RuntimeWarning: sys.stdin.encoding == 'cp1252', whereas sys.stdout.encoding == 'UTF-8', readline hook consumer may assume they are the same\n",
      "  readline_hook.enable(use_pyreadline=use_pyreadline)\n"
     ]
    }
   ],
   "source": [
    "''''To scrap Instagram, we will use a library know as instaloader which provides us with an API for scraping Instagram. \n",
    "You can install this library by using the pip method in your terminal – pip install instaloader. \n",
    "Now If you have installed this package then let’s get started with the task.''''\n",
    "\n",
    "#Scraping Instagram with Python\n",
    "\n",
    "# Import the module\n",
    "!pip install instaloader\n",
    "import instaloader"
   ]
  },
  {
   "cell_type": "code",
   "execution_count": 2,
   "id": "904f1db6",
   "metadata": {},
   "outputs": [],
   "source": [
    "# Create an instance of Instaloader class\n",
    "bot = instaloader.Instaloader()"
   ]
  },
  {
   "cell_type": "code",
   "execution_count": 3,
   "id": "222de840",
   "metadata": {},
   "outputs": [],
   "source": [
    "# Load a profile from an Instagram handle\n",
    "profile = instaloader.Profile.from_username(bot.context, 'munigantirohith')"
   ]
  },
  {
   "cell_type": "code",
   "execution_count": 4,
   "id": "d4969faf",
   "metadata": {},
   "outputs": [
    {
     "name": "stdout",
     "output_type": "stream",
     "text": [
      "<Profile munigantirohith (28088579117)>\n"
     ]
    }
   ],
   "source": [
    "print(profile)"
   ]
  },
  {
   "cell_type": "code",
   "execution_count": 5,
   "id": "d729a079",
   "metadata": {},
   "outputs": [
    {
     "name": "stdout",
     "output_type": "stream",
     "text": [
      "Username:  munigantirohith\n",
      "User ID:  28088579117\n",
      "Number of Posts:  7\n",
      "Followers:  215\n",
      "Followees:  224\n",
      "Bio:  # started journey to live since june30 1999\n",
      "Success is the best revenge...\n",
      "#hyderabadi\n",
      "#cricket lover\n",
      "Wanderlust🥳🥳\n",
      "Gym♥️💪 None\n"
     ]
    }
   ],
   "source": [
    "print(\"Username: \", profile.username)\n",
    "print(\"User ID: \", profile.userid)\n",
    "print(\"Number of Posts: \", profile.mediacount)\n",
    "print(\"Followers: \", profile.followers)\n",
    "print(\"Followees: \", profile.followees)\n",
    "print(\"Bio: \", profile.biography,profile.external_url)"
   ]
  },
  {
   "cell_type": "markdown",
   "id": "e7b638d9",
   "metadata": {},
   "source": [
    "# Now let’s see how you can log in to your Instagram profile using python:"
   ]
  },
  {
   "cell_type": "code",
   "execution_count": 7,
   "id": "73d7e81e",
   "metadata": {},
   "outputs": [],
   "source": [
    "# Login with username and password in the script\n",
    "bot.login(user=\"your username\",passwd=\"your password\"\n",
    "\n",
    "# Interactive login on terminal\n",
    "bot.interactive_login(\"your username\") # Asks for password in the terminal         "
   ]
  },
  {
   "cell_type": "markdown",
   "id": "418f5de9",
   "metadata": {},
   "source": [
    "# Scraping Instagram Followers and Followees"
   ]
  },
  {
   "cell_type": "code",
   "execution_count": 8,
   "id": "b5ff8168",
   "metadata": {},
   "outputs": [],
   "source": [
    "#Scraping your followers and followees will help you in getting a list of their usernames, \n",
    "#which you will require to do when you will work in a professional environment in the data science field:"
   ]
  },
  {
   "cell_type": "code",
   "execution_count": 9,
   "id": "e1ad9736",
   "metadata": {},
   "outputs": [],
   "source": [
    "# Retrieve the usernames of all followers\n",
    "followers = [follower.username for follower in profile.get_followers()]\n",
    "\n",
    "# Retrieve the usernames of all followees\n",
    "followees = [followee.username for followee in profile.get_followees()]\n",
    "print(followers)"
   ]
  },
  {
   "cell_type": "markdown",
   "id": "9262d005",
   "metadata": {},
   "source": [
    "# Downloading Posts from Another Profile"
   ]
  },
  {
   "cell_type": "code",
   "execution_count": 10,
   "id": "bfca2ce7",
   "metadata": {},
   "outputs": [],
   "source": [
    "#Getting posts from any profile is easy in python. We just need to use get_posts(). \n",
    "#I will this method on the profile of someone else. To download each post, we need to loop over the generator object using .\n",
    "#download_post() method. Now let’s go through this:\n"
   ]
  },
  {
   "cell_type": "code",
   "execution_count": null,
   "id": "20c85a59",
   "metadata": {},
   "outputs": [],
   "source": [
    "# Load a new profile\n",
    "profile = instaloader.Profile.from_username(bot.context, 'wwe')\n",
    "\n",
    "# Get all posts in a generator object\n",
    "posts = profile.get_posts()\n",
    "\n",
    "# Iterate and download\n",
    "for index, post in enumerate(posts, 1):\n",
    "    bot.download_post(post, target=f\"{profile.username}_{index}\")"
   ]
  }
 ],
 "metadata": {
  "kernelspec": {
   "display_name": "Python 3 (ipykernel)",
   "language": "python",
   "name": "python3"
  },
  "language_info": {
   "codemirror_mode": {
    "name": "ipython",
    "version": 3
   },
   "file_extension": ".py",
   "mimetype": "text/x-python",
   "name": "python",
   "nbconvert_exporter": "python",
   "pygments_lexer": "ipython3",
   "version": "3.9.12"
  }
 },
 "nbformat": 4,
 "nbformat_minor": 5
}
